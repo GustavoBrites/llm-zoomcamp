{
 "cells": [
  {
   "cell_type": "code",
   "execution_count": 3,
   "id": "233ade99-6058-41f7-a060-2b03e31de965",
   "metadata": {},
   "outputs": [],
   "source": [
    "from langchain.llms import Ollama"
   ]
  },
  {
   "cell_type": "code",
   "execution_count": 17,
   "id": "c3338b46-fd84-4090-8486-cd8df05a3e96",
   "metadata": {},
   "outputs": [],
   "source": [
    "from openai import OpenAI\n",
    "\n",
    "client = OpenAI(\n",
    "    base_url='http://localhost:11434/v1/',\n",
    "    api_key='ollama',\n",
    ")"
   ]
  },
  {
   "cell_type": "code",
   "execution_count": 20,
   "id": "803f2a63-c877-4eff-a21a-df4ffc63d23e",
   "metadata": {},
   "outputs": [],
   "source": [
    "def llm(prompt):\n",
    "    response = client.chat.completions.create(\n",
    "        model='phi3',\n",
    "        messages=[{\"role\": \"user\", \"content\": prompt}]\n",
    "    )\n",
    "    \n",
    "    return response.choices[0].message.content"
   ]
  },
  {
   "cell_type": "code",
   "execution_count": 15,
   "id": "caeab7e7-1731-410d-8a5b-58c10e2e204b",
   "metadata": {},
   "outputs": [],
   "source": [
    "ollama = Ollama(base_url=\"http://localhost:11434\", model=\"phi3\")\n",
    "\n",
    "TEXT_PROMPT = \"Is it too late to join the course?\""
   ]
  },
  {
   "cell_type": "code",
   "execution_count": 16,
   "id": "cc9554cc-3b99-4341-9f8a-07b20bde7530",
   "metadata": {},
   "outputs": [
    {
     "name": "stdout",
     "output_type": "stream",
     "text": [
      " I cannot provide real-time enrollment dates or deadlines, but generally speaking:\n",
      "\n",
      "\n",
      "It's best to check directly with the institution that offers the course. Here are steps you can take to find out whether it is still possible for you to join:\n",
      "\n",
      "1. Visit the official website of the educational platform or university offering the course.\n",
      "2. Look for a section dedicated to current courses, upcoming classes, or registration deadlines.\n",
      "3. Check if there's an FAQ or contact form on their site where you can inquire about enrollment eligibility past certain dates.\n",
      "4. Reach out directly via phone or email to the admissions office for personalized information regarding your situation.\n",
      "5. If applicable, look into alternative options such as online courses that might have more flexible deadlines.\n",
      "\n",
      "Remember that while some institutions may allow late enrollment in exceptional cases, it's essential to verify this possibility directly with them.\n"
     ]
    }
   ],
   "source": [
    "response = ollama(TEXT_PROMPT)\n",
    "print(response)"
   ]
  },
  {
   "cell_type": "code",
   "execution_count": 18,
   "id": "eec72640-1200-415d-8eca-a22e0d53bc8b",
   "metadata": {},
   "outputs": [],
   "source": [
    "q = 'the course has already started, can I still enroll?'"
   ]
  },
  {
   "cell_type": "code",
   "execution_count": 21,
   "id": "01dd765e-56a6-4354-a006-fd1625a29dee",
   "metadata": {},
   "outputs": [
    {
     "data": {
      "text/plain": [
       "' Whether or not you can enroll in a course after it has started depends on several factors such as:\\n\\n1. The policies of the institution offering the course – some institutions may have open registration slots available even when the course is underway, while others might not permit late registrations to keep classes at manageable sizes.\\n2. Course capacity and current enrollment numbers - if there are still spots left in the course, you should be able to register. However, if the class is full or nearly full, it may not be possible for you to join.\\n3. The nature of the course – some courses with a small number of students (like seminars) might allow late enrollment easier than large lecture-based classes.\\n\\nTo determine your eligibility to enroll in this particular course after its commencement, I recommend contacting the instructor or the department responsible for administering the class directly. They will be able to provide you with accurate and up-to-date information on late registration options if any exist.'"
      ]
     },
     "execution_count": 21,
     "metadata": {},
     "output_type": "execute_result"
    }
   ],
   "source": [
    "llm(q)"
   ]
  }
 ],
 "metadata": {
  "kernelspec": {
   "display_name": "Python 3 (ipykernel)",
   "language": "python",
   "name": "python3"
  },
  "language_info": {
   "codemirror_mode": {
    "name": "ipython",
    "version": 3
   },
   "file_extension": ".py",
   "mimetype": "text/x-python",
   "name": "python",
   "nbconvert_exporter": "python",
   "pygments_lexer": "ipython3",
   "version": "3.10.13"
  }
 },
 "nbformat": 4,
 "nbformat_minor": 5
}
